{
 "cells": [
  {
   "cell_type": "markdown",
   "metadata": {},
   "source": [
    "# Python Libraries Used\n",
    "***"
   ]
  },
  {
   "cell_type": "markdown",
   "metadata": {},
   "source": [
    "### Flask (1.1.2)\n",
    "*Source* : https://flask.palletsprojects.com/en/1.1.x/\n",
    "<br>\n",
    "*Use* : Provides the front end for Flaks and provides a GUI for web interactions. We are using a template from appseed (More documentation and credit provided in *Flask* documentation).\n",
    "\n",
    "### Numpy (1.18.5)\n",
    "*Source* : https://numpy.org/\n",
    "<br>\n",
    "*Use* : Powerful library that many other libraries are based on or integrated with. Stands for *Numerical Python*. Used for manipulating arrays and dealing with NULL values.\n",
    "\n",
    "### Pandas (1.1.4)\n",
    "*Source* : https://pandas.pydata.org/\n",
    "<br>\n",
    "*Use* : Used extensively for DataFrames. Very powerful library for manipulating and storing data. \n",
    "\n",
    "### Pickle (1.1.2)\n",
    "*Source* : https://docs.python.org/3/library/pickle.html\n",
    "<br>\n",
    "*Use* : Library that helps with saving and loading machine learning models. Used to save and load *Polynomial Regression* and *Random Forest*.\n",
    "\n",
    "\n",
    "### SQLAlchemy (1.3.20)\n",
    "*Source* : https://www.sqlalchemy.org/\n",
    "<br>\n",
    "*Use* : SQL Alchemy (or sqlite3) is the library used to interact with the SQL Lite database used by the code. It is responsible for turning strings/python code into SQL queries.\n",
    "\n",
    "### Scikitlearn (0.23.2)\n",
    "*Source* : https://sklearn.org/\n",
    "<br>\n",
    "*Use* : Open source machine learning library that provides tools for data mining and data analysis. Used for *Polynomial Regression* and *Random Forest* machine learning algorithms as well as various pre and post processing functions for the code.\n",
    "\n",
    "### Talib (0.4.19)\n",
    "*Source* : https://www.ta-lib.org/\n",
    "<br>\n",
    "*Use* : This library provides tools for technical stock analysis. We used this library to generate the following stock indicators : SAR, RSI, CCI, MACD, Bollanger Bands, EMA, Chaikin, WILLR. This library uses the data provided by yfinance and loaded into the sqlite database to preform its calculations.\n",
    "<br>\n",
    "*Note* : install with the following command | pip install TA-Lib\n",
    "\n",
    "### Talos (1.0)\n",
    "*Source* : https://pypi.org/project/talos/\n",
    "<br>\n",
    "*Use* : Talos allows for automation of hyper-parameter tuning and model evaluation. Used in the Long short-term memory part of the project to find the best set of hyper-parameters for our model.\n",
    "\n",
    "\n",
    "### Tensorflow (2.3.1)\n",
    "*Source* : https://www.tensorflow.org/\n",
    "<br>\n",
    "*Use* : Open Source machine learning library made by google. Used primarily in this code with the Long short-term memory part of the project, a recurrent neural network machine learning algorithm. \n",
    "\n",
    "### Werkzeug (1.0.1)\n",
    "*Source* : https://pypi.org/project/Werkzeug/\n",
    "<br>\n",
    "*Use* : WSGI (Web Server Gate Interface) library that works with Flask on the web integration part of the project. (More documentation and credit provided in *Flask* documentation)\n",
    "\n",
    "### yfinance (0.1.55)\n",
    "*Source* : https://pypi.org/project/yfinance/\n",
    "<br>\n",
    "*Use* : Used to interact with Yahoo Finance API. Library extracts information based on a ticker value and presents the data to python in an DataFrame. We extract all basic information used in this program with this library."
   ]
  },
  {
   "cell_type": "code",
   "execution_count": null,
   "metadata": {},
   "outputs": [],
   "source": []
  }
 ],
 "metadata": {
  "kernelspec": {
   "display_name": "Python 3",
   "language": "python",
   "name": "python3"
  },
  "language_info": {
   "codemirror_mode": {
    "name": "ipython",
    "version": 3
   },
   "file_extension": ".py",
   "mimetype": "text/x-python",
   "name": "python",
   "nbconvert_exporter": "python",
   "pygments_lexer": "ipython3",
   "version": "3.8.5"
  },
  "pycharm": {
   "stem_cell": {
    "cell_type": "raw",
    "source": [],
    "metadata": {
     "collapsed": false
    }
   }
  }
 },
 "nbformat": 4,
 "nbformat_minor": 4
}